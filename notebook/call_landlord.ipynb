{
 "cells": [
  {
   "cell_type": "markdown",
   "metadata": {},
   "source": [
    "## 叫地主数据分析"
   ]
  },
  {
   "cell_type": "code",
   "execution_count": 19,
   "metadata": {},
   "outputs": [],
   "source": [
    "import csv\n",
    "\n",
    "li = []\n",
    "with open('./call.csv', 'r') as f:\n",
    "    lines = csv.reader(f)\n",
    "    for i in lines:\n",
    "        li.append(i)"
   ]
  },
  {
   "cell_type": "code",
   "execution_count": 25,
   "metadata": {},
   "outputs": [
    {
     "data": {
      "text/plain": [
       "array([[ 1,  2,  3, ..., 12, 13,  0],\n",
       "       [ 1,  2,  2, ..., 12, 13,  0],\n",
       "       [ 1,  1,  2, ..., 13, 13,  0],\n",
       "       ...,\n",
       "       [ 1,  1,  2, ..., 13, 13,  0],\n",
       "       [ 1,  2,  3, ..., 12, 12,  0],\n",
       "       [ 1,  1,  1, ..., 13, 14,  1]])"
      ]
     },
     "execution_count": 25,
     "metadata": {},
     "output_type": "execute_result"
    }
   ],
   "source": [
    "import numpy as np\n",
    "data = np.array(li, dtype=int)\n"
   ]
  },
  {
   "cell_type": "code",
   "execution_count": 31,
   "metadata": {},
   "outputs": [
    {
     "data": {
      "text/plain": [
       "1589"
      ]
     },
     "execution_count": 31,
     "metadata": {},
     "output_type": "execute_result"
    }
   ],
   "source": [
    "call_cnt = sum(data[:,-1])\n",
    "call_cnt"
   ]
  },
  {
   "cell_type": "code",
   "execution_count": 32,
   "metadata": {},
   "outputs": [
    {
     "data": {
      "text/plain": [
       "0.39725"
      ]
     },
     "execution_count": 32,
     "metadata": {},
     "output_type": "execute_result"
    }
   ],
   "source": [
    "call_cnt / len(data)"
   ]
  },
  {
   "cell_type": "code",
   "execution_count": 36,
   "metadata": {},
   "outputs": [
    {
     "data": {
      "text/plain": [
       "(4000, 18)"
      ]
     },
     "execution_count": 36,
     "metadata": {},
     "output_type": "execute_result"
    }
   ],
   "source": [
    "data.shape"
   ]
  },
  {
   "cell_type": "code",
   "execution_count": 73,
   "metadata": {},
   "outputs": [
    {
     "data": {
      "text/plain": [
       "array([[ 1,  1,  2, ..., 14, 15,  1],\n",
       "       [ 1,  1,  2, ..., 14, 15,  1],\n",
       "       [ 2,  3,  4, ..., 14, 15,  1],\n",
       "       ...,\n",
       "       [ 1,  1,  2, ..., 14, 15,  1],\n",
       "       [ 1,  2,  2, ..., 14, 15,  1],\n",
       "       [ 1,  1,  2, ..., 14, 15,  1]])"
      ]
     },
     "execution_count": 73,
     "metadata": {},
     "output_type": "execute_result"
    }
   ],
   "source": [
    "# 所有有大小王的行\n",
    "x = data[:,-2] == 15 \n",
    "y = data[:,-3] == 14\n",
    "\n",
    "has_g = data[x & y, :]\n",
    "has_g"
   ]
  },
  {
   "cell_type": "code",
   "execution_count": 88,
   "metadata": {},
   "outputs": [
    {
     "data": {
      "text/plain": [
       "array([[ 1,  1,  2, ..., 14, 15,  1],\n",
       "       [ 1,  1,  2, ..., 14, 15,  1],\n",
       "       [ 2,  3,  4, ..., 14, 15,  1],\n",
       "       ...,\n",
       "       [ 1,  1,  2, ..., 14, 15,  1],\n",
       "       [ 1,  2,  2, ..., 14, 15,  1],\n",
       "       [ 1,  1,  2, ..., 14, 15,  1]])"
      ]
     },
     "execution_count": 88,
     "metadata": {},
     "output_type": "execute_result"
    }
   ],
   "source": [
    "has_g[has_g[:,-1] == 1,:]"
   ]
  },
  {
   "cell_type": "code",
   "execution_count": 75,
   "metadata": {},
   "outputs": [
    {
     "data": {
      "text/plain": [
       "0.24166142227816237"
      ]
     },
     "execution_count": 75,
     "metadata": {},
     "output_type": "execute_result"
    }
   ],
   "source": []
  },
  {
   "cell_type": "code",
   "execution_count": null,
   "metadata": {},
   "outputs": [],
   "source": []
  }
 ],
 "metadata": {
  "kernelspec": {
   "display_name": "Python 3",
   "language": "python",
   "name": "python3"
  },
  "language_info": {
   "codemirror_mode": {
    "name": "ipython",
    "version": 3
   },
   "file_extension": ".py",
   "mimetype": "text/x-python",
   "name": "python",
   "nbconvert_exporter": "python",
   "pygments_lexer": "ipython3",
   "version": "3.7.4"
  }
 },
 "nbformat": 4,
 "nbformat_minor": 2
}
